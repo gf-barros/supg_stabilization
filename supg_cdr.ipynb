{
 "cells": [
  {
   "cell_type": "code",
   "execution_count": 1,
   "id": "fc17e161",
   "metadata": {},
   "outputs": [],
   "source": [
    "from fenics import *"
   ]
  },
  {
   "cell_type": "code",
   "execution_count": null,
   "id": "7a4168e3",
   "metadata": {},
   "outputs": [],
   "source": [
    "NX = 10\n",
    "NY = 10\n",
    "\n",
    "mesh = UnitSquareMesh(NX, NY)\n",
    "\n",
    "\n",
    "# Problem setup\n",
    "if SUPS is False:\n",
    "    P1v = VectorElement(\"Lagrange\", mesh.ufl_cell(), 2)\n",
    "    parameters[\"form_compiler\"][\"quadrature_degree\"] = 3\n",
    "else:\n",
    "    P1v = VectorElement(\"Lagrange\", mesh.ufl_cell(), 1)\n",
    "    parameters[\"form_compiler\"][\"quadrature_degree\"] = 1\n",
    "P1 = FiniteElement(\"Lagrange\", mesh.ufl_cell(), 1)\n",
    "TH = MixedElement([P1v, P1, P1])\n",
    "W = FunctionSpace(mesh, TH)\n",
    "vp = TrialFunction(W)\n",
    "(v, p, c) = split(vp)\n",
    "(w, q, qc) = TestFunctions(W)\n",
    "vp_ = Function(W)\n",
    "v_function, p_function, c_function = split(vp_)\n",
    "u_init = InitialConditionsNS()\n",
    "vp_.interpolate(u_init)\n",
    "c_function = vp_.split(deepcopy=True)[2]\n",
    "c_function.interpolate(InitialConditionsCD())\n",
    "out_c = File(DIR + \"initialconcentration.pvd\", \"compressed\")\n",
    "out_c << (c_function, T)\n",
    "vn = Function(W.sub(0).collapse())\n",
    "cn = Function(W.sub(2).collapse())\n",
    "cn = c_function\n",
    "bcs = Lock_Exchange_boundary_condition(W, WIDTH, HEIGHT)\n",
    "dtt = Constant(DT)\n",
    "h = CellDiameter(mesh)\n",
    "vnorm = sqrt(dot(v_function, v_function))"
   ]
  }
 ],
 "metadata": {
  "kernelspec": {
   "display_name": "fenics",
   "language": "python",
   "name": "fenics"
  },
  "language_info": {
   "codemirror_mode": {
    "name": "ipython",
    "version": 3
   },
   "file_extension": ".py",
   "mimetype": "text/x-python",
   "name": "python",
   "nbconvert_exporter": "python",
   "pygments_lexer": "ipython3",
   "version": "3.11.4"
  }
 },
 "nbformat": 4,
 "nbformat_minor": 5
}
